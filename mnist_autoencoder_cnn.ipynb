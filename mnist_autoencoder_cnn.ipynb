{
  "nbformat": 4,
  "nbformat_minor": 0,
  "metadata": {
    "colab": {
      "provenance": [],
      "gpuType": "T4"
    },
    "kernelspec": {
      "name": "python3",
      "display_name": "Python 3"
    },
    "language_info": {
      "name": "python"
    },
    "accelerator": "GPU"
  },
  "cells": [
    {
      "cell_type": "code",
      "execution_count": 1,
      "metadata": {
        "id": "KfvUXM5Pcn2O"
      },
      "outputs": [],
      "source": [
        "import tensorflow as tf\n",
        "import numpy as np\n",
        "import keras\n",
        "import matplotlib.pyplot as plt\n",
        "from tensorflow.keras.datasets import mnist"
      ]
    },
    {
      "cell_type": "markdown",
      "source": [
        "# **Spliting dataset**"
      ],
      "metadata": {
        "id": "-7k64N6idJfF"
      }
    },
    {
      "cell_type": "code",
      "source": [
        "(x_train, _),(x_test,_)= mnist.load_data()"
      ],
      "metadata": {
        "colab": {
          "base_uri": "https://localhost:8080/"
        },
        "id": "0tu3jMMydMl0",
        "outputId": "6cd66e0e-8140-47e3-b003-0227bd34f953"
      },
      "execution_count": 2,
      "outputs": [
        {
          "output_type": "stream",
          "name": "stdout",
          "text": [
            "Downloading data from https://storage.googleapis.com/tensorflow/tf-keras-datasets/mnist.npz\n",
            "11490434/11490434 [==============================] - 0s 0us/step\n"
          ]
        }
      ]
    },
    {
      "cell_type": "code",
      "source": [
        "n=10 # no of classes\n",
        "plt.figure(figsize=(20,4))\n",
        "for i in range(n):\n",
        "  ax= plt.subplot(1,n,i+1)\n",
        "  plt.imshow(x_test[i].reshape(28,28))\n",
        "  plt.gray()\n",
        "  ax.get_xaxis().set_visible(False)\n",
        "  ax.get_yaxis().set_visible(False)\n",
        "plt.show()\n",
        "plt.close()"
      ],
      "metadata": {
        "colab": {
          "base_uri": "https://localhost:8080/",
          "height": 128
        },
        "id": "Q79ZQR1bdYFX",
        "outputId": "abe8520a-b17c-4c21-986e-03c85bf9016e"
      },
      "execution_count": 5,
      "outputs": [
        {
          "output_type": "display_data",
          "data": {
            "text/plain": [
              "<Figure size 2000x400 with 10 Axes>"
            ],
            "image/png": "[encoded data removed]"
          },
          "metadata": {}
        }
      ]
    },
    {
      "cell_type": "code",
      "source": [
        "x_train= x_train.astype('float32')/255\n",
        "x_test= x_test.astype('float32')/255\n",
        "x_train=x_train.reshape(len(x_train),28*28*1)\n",
        "x_test= x_test.reshape(len(x_test),28*28*1)\n",
        "print(\"Shape of x_train: \", x_train.shape)\n",
        "print(\"Shape of x_test: \", x_test.shape)"
      ],
      "metadata": {
        "colab": {
          "base_uri": "https://localhost:8080/"
        },
        "id": "_29nM8wzdhtt",
        "outputId": "edf2318f-9b9a-4f21-fb10-4ac0644f38a7"
      },
      "execution_count": 6,
      "outputs": [
        {
          "output_type": "stream",
          "name": "stdout",
          "text": [
            "Shape of x_train:  (60000, 784)\n",
            "Shape of x_test:  (10000, 784)\n"
          ]
        }
      ]
    },
    {
      "cell_type": "markdown",
      "source": [
        "# **AutoEncode using CNN**"
      ],
      "metadata": {
        "id": "peCSKaMlfYNc"
      }
    },
    {
      "cell_type": "code",
      "source": [
        "from tensorflow.keras.layers import Input, Dense, Conv2D, MaxPooling2D, Flatten, Reshape, UpSampling2D\n",
        "from tensorflow.keras.models import Model"
      ],
      "metadata": {
        "id": "lFNZPMyVfaqb"
      },
      "execution_count": 8,
      "outputs": []
    },
    {
      "cell_type": "markdown",
      "source": [
        "# **Architecture of AutoEncoder**"
      ],
      "metadata": {
        "id": "jZySoHLpgK9t"
      }
    },
    {
      "cell_type": "code",
      "source": [
        "input_conv= Input(shape=(28,28,1))\n",
        "\n",
        "x= Conv2D(32,(3,3),padding='same',kernel_initializer='he_normal', activation='relu')(input_conv)\n",
        "x= MaxPooling2D((2,2),padding='same')(x)\n",
        "\n",
        "x= Conv2D(32,(3,3),padding='same', activation='relu')(x)\n",
        "x= MaxPooling2D((2,2),padding='same')(x)\n",
        "\n",
        "x= Conv2D(4,(3,3),padding='same', activation='relu')(x)\n",
        "x= MaxPooling2D((2,2),padding='same')(x)\n",
        "\n",
        "code= Flatten(name='bot')(x)\n",
        "\n",
        "y=Reshape((4,4,4),input_shape=(64,),name='botnext0')(code)\n",
        "y= Conv2D(4,(3,3),padding='same', activation='relu',name='botnext1')(y)\n",
        "y= UpSampling2D((2,2), name='botnext2')(y)\n",
        "\n",
        "y= Conv2D(32,(3,3),padding='same', activation='relu',name='botnext3')(y)\n",
        "y= UpSampling2D((2,2), name='botnext4')(y)\n",
        "\n",
        "\n",
        "y= Conv2D(32,(3,3),padding='valid', activation='relu',name='botnext5')(y)\n",
        "y= UpSampling2D((2,2), name='botnext6')(y)\n",
        "\n",
        "y= Conv2D(1,(3,3),padding='same', activation='sigmoid',name='botnext7')(y)\n",
        "Ae_conv= Model(inputs = input_conv, outputs=y )\n",
        "\n",
        "Ae_conv.compile(optimizer=tf.keras.optimizers.SGD(0.09,clipvalue=2.5), loss='binary_crossentropy', metrics=['accuracy'])\n",
        "Ae_conv.summary()\n",
        "\n"
      ],
      "metadata": {
        "colab": {
          "base_uri": "https://localhost:8080/"
        },
        "id": "I7atzRmmgOY0",
        "outputId": "01ea42d5-7c58-4804-9b11-505f1f68aea2"
      },
      "execution_count": 12,
      "outputs": [
        {
          "output_type": "stream",
          "name": "stdout",
          "text": [
            "Model: \"model\"\n",
            "_________________________________________________________________\n",
            " Layer (type)                Output Shape              Param #   \n",
            "=================================================================\n",
            " input_4 (InputLayer)        [(None, 28, 28, 1)]       0         \n",
            "                                                                 \n",
            " conv2d_6 (Conv2D)           (None, 28, 28, 32)        320       \n",
            "                                                                 \n",
            " max_pooling2d_6 (MaxPoolin  (None, 14, 14, 32)        0         \n",
            " g2D)                                                            \n",
            "                                                                 \n",
            " conv2d_7 (Conv2D)           (None, 14, 14, 32)        9248      \n",
            "                                                                 \n",
            " max_pooling2d_7 (MaxPoolin  (None, 7, 7, 32)          0         \n",
            " g2D)                                                            \n",
            "                                                                 \n",
            " conv2d_8 (Conv2D)           (None, 7, 7, 4)           1156      \n",
            "                                                                 \n",
            " max_pooling2d_8 (MaxPoolin  (None, 4, 4, 4)           0         \n",
            " g2D)                                                            \n",
            "                                                                 \n",
            " bot (Flatten)               (None, 64)                0         \n",
            "                                                                 \n",
            " botnext0 (Reshape)          (None, 4, 4, 4)           0         \n",
            "                                                                 \n",
            " botnext1 (Conv2D)           (None, 4, 4, 4)           148       \n",
            "                                                                 \n",
            " botnext2 (UpSampling2D)     (None, 8, 8, 4)           0         \n",
            "                                                                 \n",
            " botnext3 (Conv2D)           (None, 8, 8, 32)          1184      \n",
            "                                                                 \n",
            " botnext4 (UpSampling2D)     (None, 16, 16, 32)        0         \n",
            "                                                                 \n",
            " botnext5 (Conv2D)           (None, 14, 14, 32)        9248      \n",
            "                                                                 \n",
            " botnext6 (UpSampling2D)     (None, 28, 28, 32)        0         \n",
            "                                                                 \n",
            " botnext7 (Conv2D)           (None, 28, 28, 1)         289       \n",
            "                                                                 \n",
            "=================================================================\n",
            "Total params: 21593 (84.35 KB)\n",
            "Trainable params: 21593 (84.35 KB)\n",
            "Non-trainable params: 0 (0.00 Byte)\n",
            "_________________________________________________________________\n"
          ]
        }
      ]
    },
    {
      "cell_type": "markdown",
      "source": [
        "# **Encoder**"
      ],
      "metadata": {
        "id": "SyGUOebniJPT"
      }
    },
    {
      "cell_type": "code",
      "source": [
        "encoder= Model(inputs= input_conv, outputs=Ae_conv.get_layer('bot').output, name='Encoder_of_AutoEncoder')\n",
        "encoder.summary()"
      ],
      "metadata": {
        "colab": {
          "base_uri": "https://localhost:8080/"
        },
        "id": "mYTtblL9iJsM",
        "outputId": "3d4b7d7d-a3a3-498b-bf16-b673338f9547"
      },
      "execution_count": 13,
      "outputs": [
        {
          "output_type": "stream",
          "name": "stdout",
          "text": [
            "Model: \"Encoder_of_AutoEncoder\"\n",
            "_________________________________________________________________\n",
            " Layer (type)                Output Shape              Param #   \n",
            "=================================================================\n",
            " input_4 (InputLayer)        [(None, 28, 28, 1)]       0         \n",
            "                                                                 \n",
            " conv2d_6 (Conv2D)           (None, 28, 28, 32)        320       \n",
            "                                                                 \n",
            " max_pooling2d_6 (MaxPoolin  (None, 14, 14, 32)        0         \n",
            " g2D)                                                            \n",
            "                                                                 \n",
            " conv2d_7 (Conv2D)           (None, 14, 14, 32)        9248      \n",
            "                                                                 \n",
            " max_pooling2d_7 (MaxPoolin  (None, 7, 7, 32)          0         \n",
            " g2D)                                                            \n",
            "                                                                 \n",
            " conv2d_8 (Conv2D)           (None, 7, 7, 4)           1156      \n",
            "                                                                 \n",
            " max_pooling2d_8 (MaxPoolin  (None, 4, 4, 4)           0         \n",
            " g2D)                                                            \n",
            "                                                                 \n",
            " bot (Flatten)               (None, 64)                0         \n",
            "                                                                 \n",
            "=================================================================\n",
            "Total params: 10724 (41.89 KB)\n",
            "Trainable params: 10724 (41.89 KB)\n",
            "Non-trainable params: 0 (0.00 Byte)\n",
            "_________________________________________________________________\n"
          ]
        }
      ]
    },
    {
      "cell_type": "markdown",
      "source": [
        "# **Decoder**"
      ],
      "metadata": {
        "id": "_AXwWb_BmU7i"
      }
    },
    {
      "cell_type": "code",
      "source": [
        "encoded_input= Input(shape=(64,))\n",
        "temp_decoder=Ae_conv.get_layer('botnext0')(encoded_input)\n",
        "for i in range(1,8):\n",
        "  st=\"botnext{}\".format(i)\n",
        "  temp_decoder= Ae_conv.get_layer(st)(temp_decoder)\n",
        "\n",
        "ae_decoder= Model(inputs=encoded_input, outputs= temp_decoder, name='AutoEncoder_Decoder' )\n",
        "ae_decoder.summary()"
      ],
      "metadata": {
        "colab": {
          "base_uri": "https://localhost:8080/"
        },
        "id": "MPl2huPZmWeQ",
        "outputId": "6170a09c-516a-4fe5-bf88-47f521dc47e3"
      },
      "execution_count": 14,
      "outputs": [
        {
          "output_type": "stream",
          "name": "stdout",
          "text": [
            "Model: \"AutoEncoder_Decoder\"\n",
            "_________________________________________________________________\n",
            " Layer (type)                Output Shape              Param #   \n",
            "=================================================================\n",
            " input_5 (InputLayer)        [(None, 64)]              0         \n",
            "                                                                 \n",
            " botnext0 (Reshape)          (None, 4, 4, 4)           0         \n",
            "                                                                 \n",
            " botnext1 (Conv2D)           (None, 4, 4, 4)           148       \n",
            "                                                                 \n",
            " botnext2 (UpSampling2D)     (None, 8, 8, 4)           0         \n",
            "                                                                 \n",
            " botnext3 (Conv2D)           (None, 8, 8, 32)          1184      \n",
            "                                                                 \n",
            " botnext4 (UpSampling2D)     (None, 16, 16, 32)        0         \n",
            "                                                                 \n",
            " botnext5 (Conv2D)           (None, 14, 14, 32)        9248      \n",
            "                                                                 \n",
            " botnext6 (UpSampling2D)     (None, 28, 28, 32)        0         \n",
            "                                                                 \n",
            " botnext7 (Conv2D)           (None, 28, 28, 1)         289       \n",
            "                                                                 \n",
            "=================================================================\n",
            "Total params: 10869 (42.46 KB)\n",
            "Trainable params: 10869 (42.46 KB)\n",
            "Non-trainable params: 0 (0.00 Byte)\n",
            "_________________________________________________________________\n"
          ]
        }
      ]
    },
    {
      "cell_type": "markdown",
      "source": [
        "# **Reshaping**"
      ],
      "metadata": {
        "id": "G3WC-RzGoF3c"
      }
    },
    {
      "cell_type": "code",
      "source": [
        "x_train = x_train.reshape(x_train.shape[0], 28,28,1)\n",
        "x_test = x_test.reshape(x_test.shape[0], 28,28,1)\n",
        "print(x_train.shape, x_test.shape)"
      ],
      "metadata": {
        "colab": {
          "base_uri": "https://localhost:8080/"
        },
        "id": "Ukq0ztnVoHiX",
        "outputId": "68ab65fd-f862-45a6-fd87-a96ed10c5a79"
      },
      "execution_count": 15,
      "outputs": [
        {
          "output_type": "stream",
          "name": "stdout",
          "text": [
            "(60000, 28, 28, 1) (10000, 28, 28, 1)\n"
          ]
        }
      ]
    },
    {
      "cell_type": "markdown",
      "source": [
        "# **Training AutoEncoder**"
      ],
      "metadata": {
        "id": "cq7UzVozoh47"
      }
    },
    {
      "cell_type": "code",
      "source": [
        "from time import time\n",
        "tic= time()\n",
        "\n",
        "Ae_conv.fit(x_train, x_train,\n",
        "     batch_size=64,\n",
        "    epochs= 100, verbose=2,\n",
        "    validation_split=0.2,\n",
        "            shuffle=False\n",
        ")\n",
        "\n",
        "toc= time()\n",
        "print(\"Training took {} Secs\".format(toc-tic))"
      ],
      "metadata": {
        "colab": {
          "base_uri": "https://localhost:8080/"
        },
        "id": "Jk_zxrZmofr8",
        "outputId": "9b87a794-b317-4f14-c3bc-8f8f04850fca"
      },
      "execution_count": 16,
      "outputs": [
        {
          "output_type": "stream",
          "name": "stdout",
          "text": [
            "Epoch 1/100\n",
            "750/750 - 15s - loss: 0.2175 - accuracy: 0.7939 - val_loss: 0.1851 - val_accuracy: 0.8067 - 15s/epoch - 20ms/step\n",
            "Epoch 2/100\n",
            "750/750 - 4s - loss: 0.1633 - accuracy: 0.7984 - val_loss: 0.1634 - val_accuracy: 0.8068 - 4s/epoch - 5ms/step\n",
            "Epoch 3/100\n",
            "750/750 - 4s - loss: 0.1478 - accuracy: 0.8018 - val_loss: 0.1500 - val_accuracy: 0.8079 - 4s/epoch - 5ms/step\n",
            "Epoch 4/100\n",
            "750/750 - 4s - loss: 0.1388 - accuracy: 0.8039 - val_loss: 0.1396 - val_accuracy: 0.8093 - 4s/epoch - 5ms/step\n",
            "Epoch 5/100\n",
            "750/750 - 4s - loss: 0.1326 - accuracy: 0.8054 - val_loss: 0.1340 - val_accuracy: 0.8101 - 4s/epoch - 6ms/step\n",
            "Epoch 6/100\n",
            "750/750 - 4s - loss: 0.1279 - accuracy: 0.8065 - val_loss: 0.1318 - val_accuracy: 0.8110 - 4s/epoch - 6ms/step\n",
            "Epoch 7/100\n",
            "750/750 - 4s - loss: 0.1245 - accuracy: 0.8073 - val_loss: 0.1286 - val_accuracy: 0.8115 - 4s/epoch - 5ms/step\n",
            "Epoch 8/100\n",
            "750/750 - 3s - loss: 0.1217 - accuracy: 0.8080 - val_loss: 0.1184 - val_accuracy: 0.8104 - 3s/epoch - 5ms/step\n",
            "Epoch 9/100\n",
            "750/750 - 4s - loss: 0.1196 - accuracy: 0.8085 - val_loss: 0.1158 - val_accuracy: 0.8100 - 4s/epoch - 5ms/step\n",
            "Epoch 10/100\n",
            "750/750 - 4s - loss: 0.1177 - accuracy: 0.8089 - val_loss: 0.1155 - val_accuracy: 0.8113 - 4s/epoch - 5ms/step\n",
            "Epoch 11/100\n",
            "750/750 - 4s - loss: 0.1159 - accuracy: 0.8092 - val_loss: 0.1133 - val_accuracy: 0.8097 - 4s/epoch - 5ms/step\n",
            "Epoch 12/100\n",
            "750/750 - 4s - loss: 0.1144 - accuracy: 0.8095 - val_loss: 0.1122 - val_accuracy: 0.8100 - 4s/epoch - 5ms/step\n",
            "Epoch 13/100\n",
            "750/750 - 4s - loss: 0.1131 - accuracy: 0.8098 - val_loss: 0.1108 - val_accuracy: 0.8104 - 4s/epoch - 5ms/step\n",
            "Epoch 14/100\n",
            "750/750 - 4s - loss: 0.1118 - accuracy: 0.8100 - val_loss: 0.1122 - val_accuracy: 0.8094 - 4s/epoch - 5ms/step\n",
            "Epoch 15/100\n",
            "750/750 - 5s - loss: 0.1108 - accuracy: 0.8103 - val_loss: 0.1100 - val_accuracy: 0.8101 - 5s/epoch - 6ms/step\n",
            "Epoch 16/100\n",
            "750/750 - 5s - loss: 0.1098 - accuracy: 0.8104 - val_loss: 0.1115 - val_accuracy: 0.8094 - 5s/epoch - 7ms/step\n",
            "Epoch 17/100\n",
            "750/750 - 4s - loss: 0.1090 - accuracy: 0.8106 - val_loss: 0.1094 - val_accuracy: 0.8102 - 4s/epoch - 5ms/step\n",
            "Epoch 18/100\n",
            "750/750 - 4s - loss: 0.1083 - accuracy: 0.8107 - val_loss: 0.1108 - val_accuracy: 0.8098 - 4s/epoch - 5ms/step\n",
            "Epoch 19/100\n",
            "750/750 - 4s - loss: 0.1076 - accuracy: 0.8108 - val_loss: 0.1137 - val_accuracy: 0.8090 - 4s/epoch - 5ms/step\n",
            "Epoch 20/100\n",
            "750/750 - 4s - loss: 0.1070 - accuracy: 0.8110 - val_loss: 0.1112 - val_accuracy: 0.8098 - 4s/epoch - 5ms/step\n",
            "Epoch 21/100\n",
            "750/750 - 4s - loss: 0.1064 - accuracy: 0.8111 - val_loss: 0.1135 - val_accuracy: 0.8092 - 4s/epoch - 6ms/step\n",
            "Epoch 22/100\n",
            "750/750 - 5s - loss: 0.1058 - accuracy: 0.8112 - val_loss: 0.1130 - val_accuracy: 0.8093 - 5s/epoch - 6ms/step\n",
            "Epoch 23/100\n",
            "750/750 - 5s - loss: 0.1053 - accuracy: 0.8112 - val_loss: 0.1141 - val_accuracy: 0.8091 - 5s/epoch - 6ms/step\n",
            "Epoch 24/100\n",
            "750/750 - 5s - loss: 0.1048 - accuracy: 0.8113 - val_loss: 0.1127 - val_accuracy: 0.8093 - 5s/epoch - 6ms/step\n",
            "Epoch 25/100\n",
            "750/750 - 5s - loss: 0.1044 - accuracy: 0.8114 - val_loss: 0.1118 - val_accuracy: 0.8094 - 5s/epoch - 6ms/step\n",
            "Epoch 26/100\n",
            "750/750 - 4s - loss: 0.1040 - accuracy: 0.8115 - val_loss: 0.1078 - val_accuracy: 0.8104 - 4s/epoch - 5ms/step\n",
            "Epoch 27/100\n",
            "750/750 - 4s - loss: 0.1036 - accuracy: 0.8116 - val_loss: 0.1030 - val_accuracy: 0.8121 - 4s/epoch - 5ms/step\n",
            "Epoch 28/100\n",
            "750/750 - 4s - loss: 0.1032 - accuracy: 0.8116 - val_loss: 0.1078 - val_accuracy: 0.8105 - 4s/epoch - 6ms/step\n",
            "Epoch 29/100\n",
            "750/750 - 5s - loss: 0.1029 - accuracy: 0.8117 - val_loss: 0.1054 - val_accuracy: 0.8111 - 5s/epoch - 7ms/step\n",
            "Epoch 30/100\n",
            "750/750 - 4s - loss: 0.1025 - accuracy: 0.8117 - val_loss: 0.1076 - val_accuracy: 0.8106 - 4s/epoch - 6ms/step\n",
            "Epoch 31/100\n",
            "750/750 - 5s - loss: 0.1022 - accuracy: 0.8118 - val_loss: 0.1081 - val_accuracy: 0.8105 - 5s/epoch - 6ms/step\n",
            "Epoch 32/100\n",
            "750/750 - 5s - loss: 0.1020 - accuracy: 0.8118 - val_loss: 0.1073 - val_accuracy: 0.8106 - 5s/epoch - 6ms/step\n",
            "Epoch 33/100\n",
            "750/750 - 3s - loss: 0.1017 - accuracy: 0.8119 - val_loss: 0.1049 - val_accuracy: 0.8112 - 3s/epoch - 5ms/step\n",
            "Epoch 34/100\n",
            "750/750 - 3s - loss: 0.1013 - accuracy: 0.8119 - val_loss: 0.1052 - val_accuracy: 0.8111 - 3s/epoch - 5ms/step\n",
            "Epoch 35/100\n",
            "750/750 - 4s - loss: 0.1011 - accuracy: 0.8120 - val_loss: 0.1041 - val_accuracy: 0.8114 - 4s/epoch - 6ms/step\n",
            "Epoch 36/100\n",
            "750/750 - 4s - loss: 0.1009 - accuracy: 0.8120 - val_loss: 0.1028 - val_accuracy: 0.8117 - 4s/epoch - 5ms/step\n",
            "Epoch 37/100\n",
            "750/750 - 3s - loss: 0.1005 - accuracy: 0.8121 - val_loss: 0.1012 - val_accuracy: 0.8122 - 3s/epoch - 5ms/step\n",
            "Epoch 38/100\n",
            "750/750 - 4s - loss: 0.1003 - accuracy: 0.8121 - val_loss: 0.0999 - val_accuracy: 0.8126 - 4s/epoch - 5ms/step\n",
            "Epoch 39/100\n",
            "750/750 - 4s - loss: 0.1001 - accuracy: 0.8121 - val_loss: 0.0989 - val_accuracy: 0.8130 - 4s/epoch - 5ms/step\n",
            "Epoch 40/100\n",
            "750/750 - 4s - loss: 0.0999 - accuracy: 0.8122 - val_loss: 0.1007 - val_accuracy: 0.8139 - 4s/epoch - 5ms/step\n",
            "Epoch 41/100\n",
            "750/750 - 4s - loss: 0.0997 - accuracy: 0.8122 - val_loss: 0.0994 - val_accuracy: 0.8138 - 4s/epoch - 5ms/step\n",
            "Epoch 42/100\n",
            "750/750 - 4s - loss: 0.0995 - accuracy: 0.8122 - val_loss: 0.0981 - val_accuracy: 0.8134 - 4s/epoch - 5ms/step\n",
            "Epoch 43/100\n",
            "750/750 - 3s - loss: 0.0993 - accuracy: 0.8122 - val_loss: 0.0989 - val_accuracy: 0.8138 - 3s/epoch - 5ms/step\n",
            "Epoch 44/100\n",
            "750/750 - 3s - loss: 0.0991 - accuracy: 0.8123 - val_loss: 0.0989 - val_accuracy: 0.8139 - 3s/epoch - 5ms/step\n",
            "Epoch 45/100\n",
            "750/750 - 4s - loss: 0.0989 - accuracy: 0.8123 - val_loss: 0.0981 - val_accuracy: 0.8137 - 4s/epoch - 6ms/step\n",
            "Epoch 46/100\n",
            "750/750 - 4s - loss: 0.0987 - accuracy: 0.8124 - val_loss: 0.1003 - val_accuracy: 0.8141 - 4s/epoch - 5ms/step\n",
            "Epoch 47/100\n",
            "750/750 - 3s - loss: 0.0985 - accuracy: 0.8124 - val_loss: 0.1016 - val_accuracy: 0.8142 - 3s/epoch - 5ms/step\n",
            "Epoch 48/100\n",
            "750/750 - 4s - loss: 0.0983 - accuracy: 0.8124 - val_loss: 0.1013 - val_accuracy: 0.8142 - 4s/epoch - 6ms/step\n",
            "Epoch 49/100\n",
            "750/750 - 3s - loss: 0.0982 - accuracy: 0.8124 - val_loss: 0.0986 - val_accuracy: 0.8141 - 3s/epoch - 5ms/step\n",
            "Epoch 50/100\n",
            "750/750 - 3s - loss: 0.0980 - accuracy: 0.8125 - val_loss: 0.0984 - val_accuracy: 0.8141 - 3s/epoch - 5ms/step\n",
            "Epoch 51/100\n",
            "750/750 - 4s - loss: 0.0979 - accuracy: 0.8125 - val_loss: 0.0990 - val_accuracy: 0.8142 - 4s/epoch - 5ms/step\n",
            "Epoch 52/100\n",
            "750/750 - 4s - loss: 0.0977 - accuracy: 0.8125 - val_loss: 0.0972 - val_accuracy: 0.8139 - 4s/epoch - 5ms/step\n",
            "Epoch 53/100\n",
            "750/750 - 3s - loss: 0.0976 - accuracy: 0.8125 - val_loss: 0.0973 - val_accuracy: 0.8140 - 3s/epoch - 5ms/step\n",
            "Epoch 54/100\n",
            "750/750 - 4s - loss: 0.0974 - accuracy: 0.8126 - val_loss: 0.0966 - val_accuracy: 0.8139 - 4s/epoch - 5ms/step\n",
            "Epoch 55/100\n",
            "750/750 - 4s - loss: 0.0973 - accuracy: 0.8126 - val_loss: 0.0964 - val_accuracy: 0.8139 - 4s/epoch - 5ms/step\n",
            "Epoch 56/100\n",
            "750/750 - 4s - loss: 0.0971 - accuracy: 0.8126 - val_loss: 0.0962 - val_accuracy: 0.8138 - 4s/epoch - 5ms/step\n",
            "Epoch 57/100\n",
            "750/750 - 4s - loss: 0.0970 - accuracy: 0.8126 - val_loss: 0.0962 - val_accuracy: 0.8139 - 4s/epoch - 5ms/step\n",
            "Epoch 58/100\n",
            "750/750 - 4s - loss: 0.0968 - accuracy: 0.8127 - val_loss: 0.0962 - val_accuracy: 0.8140 - 4s/epoch - 6ms/step\n",
            "Epoch 59/100\n",
            "750/750 - 4s - loss: 0.0967 - accuracy: 0.8127 - val_loss: 0.0964 - val_accuracy: 0.8140 - 4s/epoch - 5ms/step\n",
            "Epoch 60/100\n",
            "750/750 - 4s - loss: 0.0966 - accuracy: 0.8127 - val_loss: 0.0978 - val_accuracy: 0.8143 - 4s/epoch - 5ms/step\n",
            "Epoch 61/100\n",
            "750/750 - 4s - loss: 0.0965 - accuracy: 0.8127 - val_loss: 0.0997 - val_accuracy: 0.8144 - 4s/epoch - 5ms/step\n",
            "Epoch 62/100\n",
            "750/750 - 3s - loss: 0.0963 - accuracy: 0.8127 - val_loss: 0.0992 - val_accuracy: 0.8144 - 3s/epoch - 5ms/step\n",
            "Epoch 63/100\n",
            "750/750 - 3s - loss: 0.0962 - accuracy: 0.8127 - val_loss: 0.1007 - val_accuracy: 0.8145 - 3s/epoch - 5ms/step\n",
            "Epoch 64/100\n",
            "750/750 - 4s - loss: 0.0961 - accuracy: 0.8128 - val_loss: 0.0993 - val_accuracy: 0.8145 - 4s/epoch - 5ms/step\n",
            "Epoch 65/100\n",
            "750/750 - 4s - loss: 0.0960 - accuracy: 0.8128 - val_loss: 0.1006 - val_accuracy: 0.8145 - 4s/epoch - 5ms/step\n",
            "Epoch 66/100\n",
            "750/750 - 4s - loss: 0.0959 - accuracy: 0.8128 - val_loss: 0.0986 - val_accuracy: 0.8145 - 4s/epoch - 5ms/step\n",
            "Epoch 67/100\n",
            "750/750 - 4s - loss: 0.0957 - accuracy: 0.8128 - val_loss: 0.0996 - val_accuracy: 0.8145 - 4s/epoch - 5ms/step\n",
            "Epoch 68/100\n",
            "750/750 - 4s - loss: 0.0956 - accuracy: 0.8128 - val_loss: 0.0988 - val_accuracy: 0.8145 - 4s/epoch - 5ms/step\n",
            "Epoch 69/100\n",
            "750/750 - 3s - loss: 0.0955 - accuracy: 0.8129 - val_loss: 0.0969 - val_accuracy: 0.8144 - 3s/epoch - 4ms/step\n",
            "Epoch 70/100\n",
            "750/750 - 4s - loss: 0.0954 - accuracy: 0.8129 - val_loss: 0.0972 - val_accuracy: 0.8145 - 4s/epoch - 5ms/step\n",
            "Epoch 71/100\n",
            "750/750 - 4s - loss: 0.0953 - accuracy: 0.8129 - val_loss: 0.0964 - val_accuracy: 0.8144 - 4s/epoch - 5ms/step\n",
            "Epoch 72/100\n",
            "750/750 - 3s - loss: 0.0952 - accuracy: 0.8129 - val_loss: 0.0957 - val_accuracy: 0.8143 - 3s/epoch - 5ms/step\n",
            "Epoch 73/100\n",
            "750/750 - 4s - loss: 0.0951 - accuracy: 0.8129 - val_loss: 0.0950 - val_accuracy: 0.8142 - 4s/epoch - 5ms/step\n",
            "Epoch 74/100\n",
            "750/750 - 4s - loss: 0.0950 - accuracy: 0.8129 - val_loss: 0.0957 - val_accuracy: 0.8144 - 4s/epoch - 6ms/step\n",
            "Epoch 75/100\n",
            "750/750 - 3s - loss: 0.0949 - accuracy: 0.8129 - val_loss: 0.0971 - val_accuracy: 0.8145 - 3s/epoch - 5ms/step\n",
            "Epoch 76/100\n",
            "750/750 - 3s - loss: 0.0948 - accuracy: 0.8130 - val_loss: 0.0966 - val_accuracy: 0.8145 - 3s/epoch - 5ms/step\n",
            "Epoch 77/100\n",
            "750/750 - 4s - loss: 0.0947 - accuracy: 0.8130 - val_loss: 0.0951 - val_accuracy: 0.8143 - 4s/epoch - 5ms/step\n",
            "Epoch 78/100\n",
            "750/750 - 4s - loss: 0.0946 - accuracy: 0.8130 - val_loss: 0.0946 - val_accuracy: 0.8143 - 4s/epoch - 5ms/step\n",
            "Epoch 79/100\n",
            "750/750 - 4s - loss: 0.0946 - accuracy: 0.8130 - val_loss: 0.0941 - val_accuracy: 0.8142 - 4s/epoch - 5ms/step\n",
            "Epoch 80/100\n",
            "750/750 - 4s - loss: 0.0945 - accuracy: 0.8130 - val_loss: 0.0945 - val_accuracy: 0.8143 - 4s/epoch - 5ms/step\n",
            "Epoch 81/100\n",
            "750/750 - 4s - loss: 0.0944 - accuracy: 0.8130 - val_loss: 0.0948 - val_accuracy: 0.8144 - 4s/epoch - 5ms/step\n",
            "Epoch 82/100\n",
            "750/750 - 3s - loss: 0.0943 - accuracy: 0.8130 - val_loss: 0.0947 - val_accuracy: 0.8144 - 3s/epoch - 5ms/step\n",
            "Epoch 83/100\n",
            "750/750 - 3s - loss: 0.0942 - accuracy: 0.8130 - val_loss: 0.0944 - val_accuracy: 0.8143 - 3s/epoch - 5ms/step\n",
            "Epoch 84/100\n",
            "750/750 - 4s - loss: 0.0941 - accuracy: 0.8131 - val_loss: 0.0940 - val_accuracy: 0.8143 - 4s/epoch - 6ms/step\n",
            "Epoch 85/100\n",
            "750/750 - 3s - loss: 0.0940 - accuracy: 0.8131 - val_loss: 0.0942 - val_accuracy: 0.8144 - 3s/epoch - 5ms/step\n",
            "Epoch 86/100\n",
            "750/750 - 4s - loss: 0.0939 - accuracy: 0.8131 - val_loss: 0.0939 - val_accuracy: 0.8143 - 4s/epoch - 5ms/step\n",
            "Epoch 87/100\n",
            "750/750 - 4s - loss: 0.0939 - accuracy: 0.8131 - val_loss: 0.0937 - val_accuracy: 0.8143 - 4s/epoch - 5ms/step\n",
            "Epoch 88/100\n",
            "750/750 - 4s - loss: 0.0938 - accuracy: 0.8131 - val_loss: 0.0933 - val_accuracy: 0.8142 - 4s/epoch - 5ms/step\n",
            "Epoch 89/100\n",
            "750/750 - 3s - loss: 0.0937 - accuracy: 0.8131 - val_loss: 0.0935 - val_accuracy: 0.8143 - 3s/epoch - 5ms/step\n",
            "Epoch 90/100\n",
            "750/750 - 4s - loss: 0.0937 - accuracy: 0.8131 - val_loss: 0.0942 - val_accuracy: 0.8144 - 4s/epoch - 5ms/step\n",
            "Epoch 91/100\n",
            "750/750 - 5s - loss: 0.0936 - accuracy: 0.8131 - val_loss: 0.0941 - val_accuracy: 0.8144 - 5s/epoch - 6ms/step\n",
            "Epoch 92/100\n",
            "750/750 - 6s - loss: 0.0935 - accuracy: 0.8131 - val_loss: 0.0933 - val_accuracy: 0.8143 - 6s/epoch - 8ms/step\n",
            "Epoch 93/100\n",
            "750/750 - 6s - loss: 0.0934 - accuracy: 0.8131 - val_loss: 0.0934 - val_accuracy: 0.8143 - 6s/epoch - 8ms/step\n",
            "Epoch 94/100\n",
            "750/750 - 5s - loss: 0.0933 - accuracy: 0.8132 - val_loss: 0.0930 - val_accuracy: 0.8142 - 5s/epoch - 7ms/step\n",
            "Epoch 95/100\n",
            "750/750 - 5s - loss: 0.0933 - accuracy: 0.8132 - val_loss: 0.0928 - val_accuracy: 0.8142 - 5s/epoch - 6ms/step\n",
            "Epoch 96/100\n",
            "750/750 - 3s - loss: 0.0932 - accuracy: 0.8132 - val_loss: 0.0928 - val_accuracy: 0.8142 - 3s/epoch - 5ms/step\n",
            "Epoch 97/100\n",
            "750/750 - 4s - loss: 0.0932 - accuracy: 0.8132 - val_loss: 0.0929 - val_accuracy: 0.8143 - 4s/epoch - 5ms/step\n",
            "Epoch 98/100\n",
            "750/750 - 4s - loss: 0.0931 - accuracy: 0.8132 - val_loss: 0.0927 - val_accuracy: 0.8143 - 4s/epoch - 6ms/step\n",
            "Epoch 99/100\n",
            "750/750 - 4s - loss: 0.0930 - accuracy: 0.8132 - val_loss: 0.0926 - val_accuracy: 0.8142 - 4s/epoch - 5ms/step\n",
            "Epoch 100/100\n",
            "750/750 - 3s - loss: 0.0929 - accuracy: 0.8132 - val_loss: 0.0926 - val_accuracy: 0.8143 - 3s/epoch - 5ms/step\n",
            "Training took 404.5771224498749 Secs\n"
          ]
        }
      ]
    },
    {
      "cell_type": "markdown",
      "source": [
        "# **Saving the model**"
      ],
      "metadata": {
        "id": "k-ZrXGuQrPff"
      }
    },
    {
      "cell_type": "code",
      "source": [
        "Ae_conv.save('mnist_autoencoder_cnn.h5')"
      ],
      "metadata": {
        "colab": {
          "base_uri": "https://localhost:8080/"
        },
        "id": "bp5f6uvTqt8q",
        "outputId": "4c221caa-74e1-4cb9-edca-ef5e24725bb0"
      },
      "execution_count": 19,
      "outputs": [
        {
          "output_type": "stream",
          "name": "stderr",
          "text": [
            "/usr/local/lib/python3.10/dist-packages/keras/src/engine/training.py:3000: UserWarning: You are saving your model as an HDF5 file via `model.save()`. This file format is considered legacy. We recommend using instead the native Keras format, e.g. `model.save('my_model.keras')`.\n",
            "  saving_api.save_model(\n"
          ]
        }
      ]
    },
    {
      "cell_type": "code",
      "source": [
        "model_deploy=keras.models.load_model(\"/content/mnist_autoencoder_cnn.h5\")"
      ],
      "metadata": {
        "id": "SlXobuKzra0f"
      },
      "execution_count": 21,
      "outputs": []
    },
    {
      "cell_type": "code",
      "source": [
        "model_deploy.predict(x_test)"
      ],
      "metadata": {
        "colab": {
          "base_uri": "https://localhost:8080/"
        },
        "id": "nWwQQloSrrPN",
        "outputId": "c90fd2a8-9c86-457f-afe9-2820b9c13607"
      },
      "execution_count": 22,
      "outputs": [
        {
          "output_type": "stream",
          "name": "stdout",
          "text": [
            "313/313 [==============================] - 1s 2ms/step\n"
          ]
        },
        {
          "output_type": "execute_result",
          "data": {
            "text/plain": [
              "array([[[[1.8279818e-04],\n",
              "         [2.5423103e-06],\n",
              "         [6.0255263e-07],\n",
              "         ...,\n",
              "         [4.6951609e-10],\n",
              "         [7.0378997e-10],\n",
              "         [9.7279859e-08]],\n",
              "\n",
              "        [[2.7942133e-07],\n",
              "         [2.0240265e-09],\n",
              "         [2.3999525e-10],\n",
              "         ...,\n",
              "         [1.2522606e-12],\n",
              "         [2.3232924e-11],\n",
              "         [8.9133081e-08]],\n",
              "\n",
              "        [[7.0134242e-08],\n",
              "         [1.0027821e-09],\n",
              "         [1.3038562e-10],\n",
              "         ...,\n",
              "         [4.8727845e-12],\n",
              "         [1.1875166e-10],\n",
              "         [4.9980628e-08]],\n",
              "\n",
              "        ...,\n",
              "\n",
              "        [[2.2517013e-06],\n",
              "         [7.5354905e-09],\n",
              "         [1.6209245e-10],\n",
              "         ...,\n",
              "         [5.9363831e-10],\n",
              "         [2.8724396e-09],\n",
              "         [9.0124911e-07]],\n",
              "\n",
              "        [[4.8585807e-06],\n",
              "         [1.7225009e-08],\n",
              "         [5.5142785e-10],\n",
              "         ...,\n",
              "         [6.5138406e-09],\n",
              "         [4.7597254e-08],\n",
              "         [7.5220692e-06]],\n",
              "\n",
              "        [[2.1109363e-05],\n",
              "         [4.2127834e-07],\n",
              "         [2.8853448e-08],\n",
              "         ...,\n",
              "         [8.0505350e-07],\n",
              "         [2.4651331e-06],\n",
              "         [3.3012472e-04]]],\n",
              "\n",
              "\n",
              "       [[[5.1365645e-05],\n",
              "         [6.7621343e-08],\n",
              "         [2.8137038e-08],\n",
              "         ...,\n",
              "         [3.6680035e-09],\n",
              "         [2.9513683e-09],\n",
              "         [5.9779289e-08]],\n",
              "\n",
              "        [[1.0964267e-07],\n",
              "         [4.6623982e-11],\n",
              "         [6.1729020e-12],\n",
              "         ...,\n",
              "         [7.1040994e-12],\n",
              "         [2.4520188e-11],\n",
              "         [2.5567759e-08]],\n",
              "\n",
              "        [[1.0198144e-08],\n",
              "         [8.5323701e-12],\n",
              "         [5.7101638e-13],\n",
              "         ...,\n",
              "         [1.0760221e-11],\n",
              "         [1.1791003e-10],\n",
              "         [2.7715348e-08]],\n",
              "\n",
              "        ...,\n",
              "\n",
              "        [[3.2629785e-06],\n",
              "         [6.9398773e-08],\n",
              "         [1.2510934e-08],\n",
              "         ...,\n",
              "         [6.0499296e-08],\n",
              "         [2.4210195e-07],\n",
              "         [6.9328388e-07]],\n",
              "\n",
              "        [[1.5781268e-05],\n",
              "         [3.5665497e-07],\n",
              "         [3.2687694e-08],\n",
              "         ...,\n",
              "         [3.8835926e-10],\n",
              "         [3.4207490e-09],\n",
              "         [9.0137320e-08]],\n",
              "\n",
              "        [[5.1840176e-05],\n",
              "         [1.7915551e-06],\n",
              "         [2.1513677e-07],\n",
              "         ...,\n",
              "         [3.5735952e-09],\n",
              "         [1.5687197e-08],\n",
              "         [2.7294361e-06]]],\n",
              "\n",
              "\n",
              "       [[[8.0879621e-04],\n",
              "         [3.1608106e-05],\n",
              "         [2.1430247e-05],\n",
              "         ...,\n",
              "         [1.0091398e-07],\n",
              "         [9.2540660e-08],\n",
              "         [2.7403619e-06]],\n",
              "\n",
              "        [[1.0973355e-05],\n",
              "         [1.4336162e-07],\n",
              "         [3.3174850e-08],\n",
              "         ...,\n",
              "         [2.5649502e-10],\n",
              "         [1.4498127e-09],\n",
              "         [1.4360096e-06]],\n",
              "\n",
              "        [[8.8105053e-06],\n",
              "         [1.1773087e-07],\n",
              "         [1.9658447e-08],\n",
              "         ...,\n",
              "         [3.0326608e-10],\n",
              "         [4.0887782e-09],\n",
              "         [1.2564714e-06]],\n",
              "\n",
              "        ...,\n",
              "\n",
              "        [[3.8748472e-05],\n",
              "         [2.5561332e-07],\n",
              "         [1.2469005e-08],\n",
              "         ...,\n",
              "         [6.4154608e-07],\n",
              "         [1.3569261e-06],\n",
              "         [6.2100102e-05]],\n",
              "\n",
              "        [[9.3474970e-05],\n",
              "         [1.1040344e-06],\n",
              "         [1.8174390e-07],\n",
              "         ...,\n",
              "         [7.8070016e-06],\n",
              "         [1.4652302e-05],\n",
              "         [2.1328678e-04]],\n",
              "\n",
              "        [[1.7185070e-04],\n",
              "         [1.0164529e-05],\n",
              "         [4.3813716e-06],\n",
              "         ...,\n",
              "         [6.9365356e-05],\n",
              "         [1.1243419e-04],\n",
              "         [2.0185728e-03]]],\n",
              "\n",
              "\n",
              "       ...,\n",
              "\n",
              "\n",
              "       [[[7.2384821e-05],\n",
              "         [7.4998326e-07],\n",
              "         [4.3217733e-07],\n",
              "         ...,\n",
              "         [1.5439019e-07],\n",
              "         [2.3198780e-07],\n",
              "         [3.4424096e-07]],\n",
              "\n",
              "        [[1.5264478e-06],\n",
              "         [2.4154987e-09],\n",
              "         [1.8562096e-10],\n",
              "         ...,\n",
              "         [2.2001001e-09],\n",
              "         [2.7964282e-08],\n",
              "         [3.4057194e-07]],\n",
              "\n",
              "        [[3.0630565e-07],\n",
              "         [2.8540340e-10],\n",
              "         [8.0164131e-12],\n",
              "         ...,\n",
              "         [1.3686272e-08],\n",
              "         [2.6733071e-07],\n",
              "         [5.7699657e-07]],\n",
              "\n",
              "        ...,\n",
              "\n",
              "        [[5.3642458e-07],\n",
              "         [2.7543747e-09],\n",
              "         [9.1241806e-11],\n",
              "         ...,\n",
              "         [8.5079693e-10],\n",
              "         [2.8795375e-09],\n",
              "         [4.4386638e-07]],\n",
              "\n",
              "        [[4.0939808e-06],\n",
              "         [3.3230073e-08],\n",
              "         [2.0961093e-09],\n",
              "         ...,\n",
              "         [6.8381096e-09],\n",
              "         [3.4810341e-08],\n",
              "         [3.8669291e-06]],\n",
              "\n",
              "        [[1.8629649e-05],\n",
              "         [8.4233977e-07],\n",
              "         [1.9361691e-07],\n",
              "         ...,\n",
              "         [1.0616757e-06],\n",
              "         [2.0692551e-06],\n",
              "         [2.3271059e-04]]],\n",
              "\n",
              "\n",
              "       [[[1.7354016e-04],\n",
              "         [2.6581379e-06],\n",
              "         [2.6052835e-06],\n",
              "         ...,\n",
              "         [2.5089404e-08],\n",
              "         [5.1203958e-08],\n",
              "         [8.8942681e-07]],\n",
              "\n",
              "        [[4.3683585e-06],\n",
              "         [2.1745107e-08],\n",
              "         [5.0681872e-09],\n",
              "         ...,\n",
              "         [8.2098450e-10],\n",
              "         [5.1150835e-09],\n",
              "         [6.4645940e-07]],\n",
              "\n",
              "        [[2.7912010e-06],\n",
              "         [1.2074062e-08],\n",
              "         [1.2658015e-09],\n",
              "         ...,\n",
              "         [4.4910875e-10],\n",
              "         [2.1684585e-09],\n",
              "         [1.0770487e-07]],\n",
              "\n",
              "        ...,\n",
              "\n",
              "        [[1.5443482e-07],\n",
              "         [3.8189247e-09],\n",
              "         [2.1751361e-09],\n",
              "         ...,\n",
              "         [5.1577310e-12],\n",
              "         [9.0829767e-11],\n",
              "         [1.4693275e-07]],\n",
              "\n",
              "        [[1.5368258e-06],\n",
              "         [3.7520614e-08],\n",
              "         [4.8462181e-09],\n",
              "         ...,\n",
              "         [2.0710754e-10],\n",
              "         [3.9508361e-09],\n",
              "         [1.8187790e-06]],\n",
              "\n",
              "        [[8.2992110e-06],\n",
              "         [2.3100162e-07],\n",
              "         [2.4860800e-08],\n",
              "         ...,\n",
              "         [4.4512404e-08],\n",
              "         [2.8511400e-07],\n",
              "         [1.0519177e-04]]],\n",
              "\n",
              "\n",
              "       [[[7.4462652e-05],\n",
              "         [8.2017038e-07],\n",
              "         [3.2285351e-07],\n",
              "         ...,\n",
              "         [2.6652182e-04],\n",
              "         [3.2580341e-04],\n",
              "         [5.2946776e-05]],\n",
              "\n",
              "        [[1.8152424e-06],\n",
              "         [2.7705926e-09],\n",
              "         [1.2388322e-10],\n",
              "         ...,\n",
              "         [6.1257379e-05],\n",
              "         [1.2052350e-04],\n",
              "         [2.1362954e-05]],\n",
              "\n",
              "        [[2.2917796e-07],\n",
              "         [2.3520833e-10],\n",
              "         [5.8553097e-12],\n",
              "         ...,\n",
              "         [8.0070138e-05],\n",
              "         [6.3958309e-05],\n",
              "         [1.0044251e-05]],\n",
              "\n",
              "        ...,\n",
              "\n",
              "        [[2.3553979e-09],\n",
              "         [4.5831249e-11],\n",
              "         [2.2833282e-11],\n",
              "         ...,\n",
              "         [1.5819682e-11],\n",
              "         [7.6140490e-11],\n",
              "         [8.7319236e-09]],\n",
              "\n",
              "        [[7.8147337e-08],\n",
              "         [9.3152053e-10],\n",
              "         [1.4271768e-10],\n",
              "         ...,\n",
              "         [5.2316967e-11],\n",
              "         [4.0110462e-10],\n",
              "         [8.3142041e-08]],\n",
              "\n",
              "        [[9.2199366e-07],\n",
              "         [1.6833631e-08],\n",
              "         [2.3632369e-09],\n",
              "         ...,\n",
              "         [2.5148994e-09],\n",
              "         [7.9346005e-09],\n",
              "         [4.7022013e-06]]]], dtype=float32)"
            ]
          },
          "metadata": {},
          "execution_count": 22
        }
      ]
    },
    {
      "cell_type": "markdown",
      "source": [
        "# **Passing Image to Encoder**"
      ],
      "metadata": {
        "id": "gMkZeezhps5b"
      }
    },
    {
      "cell_type": "code",
      "source": [
        "encoded_imgs= encoder.predict(x_test)\n",
        "print(encoded_imgs.shape)"
      ],
      "metadata": {
        "colab": {
          "base_uri": "https://localhost:8080/"
        },
        "id": "AcQTbW68pwkI",
        "outputId": "7a1adda6-f640-4bdb-be3d-e089f0aa614a"
      },
      "execution_count": 25,
      "outputs": [
        {
          "output_type": "stream",
          "name": "stdout",
          "text": [
            "313/313 [==============================] - 1s 2ms/step\n",
            "(10000, 64)\n"
          ]
        }
      ]
    },
    {
      "cell_type": "markdown",
      "source": [
        "# **Passing Encoded(compresses features) to decoder**"
      ],
      "metadata": {
        "id": "41iiim7Tpw5I"
      }
    },
    {
      "cell_type": "code",
      "source": [
        "decoded_imgs= ae_decoder.predict(encoded_imgs)\n",
        "deoceded_images = Ae_conv.predict(x_test)\n",
        "print(\"Recreated image Representation of Shape {} using Decoder and reduced Image representation of shape {}\".format (decoded_imgs.shape,\n",
        "                                                                                                                      encoded_imgs.shape))\n",
        "n = 10  # how many digits we will display\n",
        "k= 12 # multiplier\n",
        "plt.figure(figsize=(20,4))\n",
        "for i in range(n):\n",
        "  ax=plt.subplot(2,n,i+1)\n",
        "  plt.imshow(x_test[i*k].reshape(28,28))\n",
        "  plt.gray()\n",
        "  ax.get_xaxis().set_visible(False)\n",
        "  ax.get_yaxis().set_visible(False)\n",
        "      # display reconstruction\n",
        "  ax = plt.subplot(2, n, i + 1 + n)\n",
        "  plt.imshow(decoded_imgs[i*k].reshape(28, 28))\n",
        "  plt.gray()\n",
        "  ax.get_xaxis().set_visible(False)\n",
        "  ax.get_yaxis().set_visible(False)\n",
        "plt.show()\n",
        "\n",
        "\n",
        "\n"
      ],
      "metadata": {
        "colab": {
          "base_uri": "https://localhost:8080/",
          "height": 305
        },
        "id": "HWe2-gTrp4ck",
        "outputId": "1846970e-a980-4b1c-c36f-497ca0a11272"
      },
      "execution_count": 28,
      "outputs": [
        {
          "output_type": "stream",
          "name": "stdout",
          "text": [
            "313/313 [==============================] - 0s 1ms/step\n",
            "313/313 [==============================] - 1s 2ms/step\n",
            "Recreated image Representation of Shape (10000, 28, 28, 1) using Decoder and reduced Image representation of shape (10000, 64)\n"
          ]
        },
        {
          "output_type": "display_data",
          "data": {
            "text/plain": [
              "<Figure size 2000x400 with 20 Axes>"
            ],
            "image/png": "[encoded data removed]"
          },
          "metadata": {}
        }
      ]
    }
  ]
}